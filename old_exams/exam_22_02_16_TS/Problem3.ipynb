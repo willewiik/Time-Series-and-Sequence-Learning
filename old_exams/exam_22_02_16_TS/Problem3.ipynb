{
 "cells": [
  {
   "cell_type": "code",
   "execution_count": null,
   "metadata": {},
   "outputs": [],
   "source": [
    "import numpy as np\n",
    "import pandas as pd\n",
    "import matplotlib.pyplot as plt"
   ]
  },
  {
   "cell_type": "markdown",
   "metadata": {},
   "source": [
    "# Problem 3\n",
    "\n",
    "(11p)\n",
    "\n",
    "**a)** Consider the following model\n",
    "$$\n",
    "    \\begin{cases} \\alpha_{t+1} = \\phi \\cdot \\alpha_t + \\eta_t,& \\eta_t \\sim \\mathcal{N}(0,\\sigma^2), \\\\\n",
    "    y_t = \\beta \\exp(\\alpha_t/2) \\varepsilon_t, & \\varepsilon_t \\sim \\mathcal{N}(0, 1), \\end{cases}\n",
    "$$\n",
    "with $\\alpha_1 = 0$.\n",
    "\n",
    "Since this is a non-Linear model a particle filter can be used to estimate the hidden states $\\alpha_t$ conditioned on the observations $y_t$. For these algorithms we need to define the distributions of **propoagation** ($p(\\alpha_{t+1} | \\alpha_t$)) and **observation** ($p(y_t | \\alpha_t$).\n",
    "\n",
    "Write out these **two** distrubtions and implement the two functions:\n",
    "- `propagate` that simulates $N$ particles of $\\alpha_{t+1}$ conditioned on a set of $N$ particles approximating $\\alpha_t$.\n",
    "- `logwgtfun` that calculates the log of the observation density given $N$ particles.\n",
    "\n",
    "<div style=\"text-align: right\"> (3p) </div>\n",
    "\n",
    "**Solution:**"
   ]
  },
  {
   "cell_type": "code",
   "execution_count": null,
   "metadata": {},
   "outputs": [],
   "source": []
  },
  {
   "cell_type": "markdown",
   "metadata": {},
   "source": [
    "---"
   ]
  },
  {
   "cell_type": "markdown",
   "metadata": {},
   "source": [
    "**b)** This model if often used to model log-return of financial instruments, to do prediction and procing of these instruments we need to calculate the hidden states $\\alpha_t$ conditioned on the observations $y_t$.\n",
    "\n",
    "Using the values $\\phi = 0.9$, $\\sigma = 0.16$, and $\\beta = 0.7$ implement and run the bootstrap particle filter on the data provided in `data_problem3.csv`.\n",
    "\n",
    "Provide a plot of $\\mathbb{E}[\\alpha_t \\mid y_t]$ and a plot of $\\mathbb{P}(\\alpha_t > 0 | y_t)$ for $t = 1, 2, 3, \\ldots$. Use at least $N = 200$ particles in your estimates.\n",
    "\n",
    "_hint: if you did not solve **a)** you can use `propagate_wrong` and `logwgtfun_wrong` from `tssltools.py`, note that these are not the correct functions and you should use your functions from **a)** if you have any._\n",
    "\n",
    "<div style=\"text-align: right\"> (5p) </div>\n",
    "\n",
    "**Solution:**"
   ]
  },
  {
   "cell_type": "code",
   "execution_count": null,
   "metadata": {},
   "outputs": [],
   "source": []
  },
  {
   "cell_type": "markdown",
   "metadata": {},
   "source": [
    "------"
   ]
  },
  {
   "cell_type": "markdown",
   "metadata": {},
   "source": [
    "**c)** For these models one or more of the parameters may be unknown. We wish to find the best estimate for the parameter $\\phi$ we know from previous studies that the correct value of between 0.8 and 1. Use a bootstrap particle filter to find best estimate by taking a grid of different $\\phi$ values and calculating the log-likelihood for these values.\n",
    "\n",
    "Present a plot of your log-likelihood estimates and the numerical value that you choose for $\\phi$.\n",
    "\n",
    "<div style=\"text-align: right\"> (3p) </div>\n",
    "\n",
    "**Solution:**"
   ]
  },
  {
   "cell_type": "code",
   "execution_count": null,
   "metadata": {},
   "outputs": [],
   "source": []
  }
 ],
 "metadata": {
  "kernelspec": {
   "display_name": "Python 3 (ipykernel)",
   "language": "python",
   "name": "python3"
  },
  "language_info": {
   "codemirror_mode": {
    "name": "ipython",
    "version": 3
   },
   "file_extension": ".py",
   "mimetype": "text/x-python",
   "name": "python",
   "nbconvert_exporter": "python",
   "pygments_lexer": "ipython3",
   "version": "3.7.11"
  }
 },
 "nbformat": 4,
 "nbformat_minor": 2
}
