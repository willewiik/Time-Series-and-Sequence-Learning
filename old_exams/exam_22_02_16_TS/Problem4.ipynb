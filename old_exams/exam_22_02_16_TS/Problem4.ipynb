{
  "cells": [
    {
      "cell_type": "markdown",
      "metadata": {
        "id": "view-in-github",
        "colab_type": "text"
      },
      "source": [
        "<a href=\"https://colab.research.google.com/github/willewiik/Time-Series-and-Sequence-Learning/blob/main/old_exams/exam_22_02_16_TS/Problem4.ipynb\" target=\"_parent\"><img src=\"https://colab.research.google.com/assets/colab-badge.svg\" alt=\"Open In Colab\"/></a>"
      ]
    },
    {
      "cell_type": "markdown",
      "metadata": {
        "id": "15QNM10z6prd"
      },
      "source": [
        "# Problem 4:\n",
        "\n",
        "(8p)\n",
        "\n",
        "**a)** Consider the problem of one-step-ahead prediction for a time series $\\{y_t\\}_{t \\geq 1}$. The code cell below defines a three-layer Jordan-Elman RNN for solving this problem. Write out the mathematical expressions corresponding to this model, in terms of the hidden state variables, the state update equiations, and the output equations. Also, for all parameters in your model, specify their respective dimensions.\n",
        "<div style=\"text-align: right\"> (5p) </div>\n"
      ]
    },
    {
      "cell_type": "code",
      "execution_count": null,
      "metadata": {
        "id": "Zd2IdxYx6pre",
        "outputId": "cffe0a97-0414-455e-df74-3a742a1ba7a6"
      },
      "outputs": [
        {
          "name": "stdout",
          "output_type": "stream",
          "text": [
            "Model: \"sequential_1\"\n",
            "_________________________________________________________________\n",
            "Layer (type)                 Output Shape              Param #   \n",
            "=================================================================\n",
            "simple_rnn_3 (SimpleRNN)     (None, None, 10)          120       \n",
            "_________________________________________________________________\n",
            "simple_rnn_4 (SimpleRNN)     (None, None, 15)          390       \n",
            "_________________________________________________________________\n",
            "simple_rnn_5 (SimpleRNN)     (None, None, 20)          720       \n",
            "_________________________________________________________________\n",
            "dense_2 (Dense)              (None, None, 60)          1260      \n",
            "_________________________________________________________________\n",
            "dense_3 (Dense)              (None, None, 1)           61        \n",
            "=================================================================\n",
            "Total params: 2,551\n",
            "Trainable params: 2,551\n",
            "Non-trainable params: 0\n",
            "_________________________________________________________________\n"
          ]
        }
      ],
      "source": [
        "from tensorflow import keras\n",
        "from tensorflow.keras import layers\n",
        "\n",
        "model = keras.Sequential([\n",
        "    layers.SimpleRNN(units = 10, input_shape=(None,1), return_sequences=True, activation='tanh'),\n",
        "    layers.SimpleRNN(units = 15, input_shape=(None,1), return_sequences=True, activation='tanh'),\n",
        "    layers.SimpleRNN(units = 20, input_shape=(None,1), return_sequences=True, activation='tanh'),\n",
        "    layers.Dense(units = 60, activation='relu'),\n",
        "    layers.Dense(units = 1, activation='linear')\n",
        "])\n",
        "\n",
        "model.summary()"
      ]
    },
    {
      "cell_type": "markdown",
      "metadata": {
        "id": "_x-RY0T26pre"
      },
      "source": [
        "**Solution**"
      ]
    },
    {
      "cell_type": "markdown",
      "metadata": {
        "id": "O3-wTyKe6pre"
      },
      "source": []
    },
    {
      "cell_type": "markdown",
      "metadata": {
        "id": "MGzI2Enp6prf"
      },
      "source": [
        "----"
      ]
    },
    {
      "cell_type": "markdown",
      "metadata": {
        "id": "xWq-gDf_6prf"
      },
      "source": [
        "**b)** When working with a **state-space model**,\n",
        "$$\n",
        "    \\begin{cases} \\alpha_t = T \\alpha_{t-1} + R \\eta_t, & \\eta_t \\sim \\mathcal{N}(0,Q), \\\\ y_t = Z \\alpha_t + \\varepsilon_t, & \\varepsilon_t \\sim \\mathcal{N}(0,H), \\end{cases}\n",
        "$$\n",
        "we are able to find equivivalent models. For instance if we set $\\tilde{\\alpha}_t = \\Gamma \\alpha_t$ where $\\Gamma$ is an invertible matrix. What is the equivivalent model in this case? When we say that the two models are equivivalent, what is it that is equivivalent?\n",
        "\n",
        "<div style=\"text-align: right\"> (3p) </div>\n",
        "\n",
        "**Solution**"
      ]
    },
    {
      "cell_type": "markdown",
      "metadata": {
        "id": "jAoJe7WB6prf"
      },
      "source": []
    }
  ],
  "metadata": {
    "kernelspec": {
      "display_name": "Python 3 (ipykernel)",
      "language": "python",
      "name": "python3"
    },
    "language_info": {
      "codemirror_mode": {
        "name": "ipython",
        "version": 3
      },
      "file_extension": ".py",
      "mimetype": "text/x-python",
      "name": "python",
      "nbconvert_exporter": "python",
      "pygments_lexer": "ipython3",
      "version": "3.7.11"
    },
    "colab": {
      "provenance": [],
      "include_colab_link": true
    }
  },
  "nbformat": 4,
  "nbformat_minor": 0
}