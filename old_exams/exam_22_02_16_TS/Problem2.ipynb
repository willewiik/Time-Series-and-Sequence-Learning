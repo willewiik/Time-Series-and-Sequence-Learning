{
 "cells": [
  {
   "cell_type": "code",
   "execution_count": null,
   "metadata": {},
   "outputs": [],
   "source": [
    "import numpy as np\n",
    "import pandas as pd\n",
    "import matplotlib.pyplot as plt"
   ]
  },
  {
   "cell_type": "markdown",
   "metadata": {},
   "source": [
    "# Problem 2\n",
    "(11 points)"
   ]
  },
  {
   "cell_type": "markdown",
   "metadata": {},
   "source": [
    "**a)** In this problem we will study a **structural time series** model.\n",
    "$$\n",
    "    \\begin{cases} \\alpha_t = T \\alpha_{t-1} + R \\eta_t, & \\eta_t \\sim \\mathcal{N}(0,Q), \\\\ y_t = Z \\alpha_t + \\varepsilon_t, & \\varepsilon_t \\sim \\mathcal{N}(0,H), \\end{cases}\n",
    "$$\n",
    "where $\\alpha_t$ contains a trend and seasonal part.\n",
    "The trend in this model is **linear** but the seasonality is unknown.\n",
    "We let the variances of the model be $\\sigma_{\\mu}^2 = 0.1^2$, $\\sigma_{\\gamma}^2 = 0.1^2$, and $\\sigma_{\\varepsilon}^2 = 1$.\n",
    "\n",
    "The data file `data_problem2.csv` contains a sequence of observations from this model over a few years. Using this data you are tasked to do the following:\n",
    "\n",
    "1. Look at the provided data and find the seasonality $s$.\n",
    "2. Setup the complete model by writing down the matrices $T$, $R$, $Q$, $Z$, and $H$. Also specify your hidden states $\\alpha_t$. Remember to motivate your choices of matrices.\n",
    "3. Set up the mean vector of the initial distribution such that \n",
    "    * The trend component starts at the first observation,\n",
    "    * The slope of the trend is _a priori_ zero in expectation,\n",
    "    * The initial mean of all states related to the seasonal component are zero.\n",
    "4. Set up the initial covariance matrix as a diagonal matrix with 100 on the diagonal.\n",
    "\n",
    "<div style=\"text-align: right\"> (4p) </div>"
   ]
  },
  {
   "cell_type": "code",
   "execution_count": null,
   "metadata": {},
   "outputs": [],
   "source": [
    "data = pd.read_csv('data_problem2.csv',header=0)\n",
    "y = data['Data'].values\n",
    "u = data['Dates'].values\n",
    "\n",
    "from tssltools import LGSS"
   ]
  },
  {
   "cell_type": "markdown",
   "metadata": {},
   "source": [
    "**Solution:**"
   ]
  },
  {
   "cell_type": "code",
   "execution_count": null,
   "metadata": {},
   "outputs": [],
   "source": []
  },
  {
   "cell_type": "markdown",
   "metadata": {},
   "source": [
    "___"
   ]
  },
  {
   "cell_type": "markdown",
   "metadata": {},
   "source": [
    "**b)** As you notice when looking at the data there are a bunch of missing observations. You want to fill in the gaps and remember that the Kalman filter can do that. Your colleague on the other hand always talk about the Kalman smoother as the correct thing to use.\n",
    "\n",
    "1. Discuss the difference between these two algorithms in a few sentences. \n",
    "2. Run both of the algorithms on the data.\n",
    "3. Plot the estimates $\\pm 1$ standard deviation of $Z \\alpha_t$ for the entire dataset. There should be an estimate from the Kalman filter results and one estimate from the Kalman smoother.\n",
    "4. Comment on the results.\n",
    "\n",
    "<div style=\"text-align: right\"> (4p) </div>"
   ]
  },
  {
   "cell_type": "markdown",
   "metadata": {},
   "source": [
    "**Solution:**"
   ]
  },
  {
   "cell_type": "markdown",
   "metadata": {},
   "source": []
  },
  {
   "cell_type": "code",
   "execution_count": null,
   "metadata": {},
   "outputs": [],
   "source": []
  },
  {
   "cell_type": "markdown",
   "metadata": {},
   "source": [
    "___"
   ]
  },
  {
   "cell_type": "markdown",
   "metadata": {},
   "source": [
    "**c)** For these models we have a few parameters that may be known or unkown. Another colleague comes and asks you how to estimate them. Discuss **two** different methods to estimate the parameters. In your discussion you should comment on what algorithms are needed for your choosen methods, pros/cons of your methods and ease of implementation.\n",
    "\n",
    "<div style=\"text-align: right\"> (3p) </div>"
   ]
  },
  {
   "cell_type": "markdown",
   "metadata": {},
   "source": [
    "**Solution:**"
   ]
  },
  {
   "cell_type": "markdown",
   "metadata": {},
   "source": []
  }
 ],
 "metadata": {
  "language_info": {
   "name": "python"
  }
 },
 "nbformat": 4,
 "nbformat_minor": 2
}
