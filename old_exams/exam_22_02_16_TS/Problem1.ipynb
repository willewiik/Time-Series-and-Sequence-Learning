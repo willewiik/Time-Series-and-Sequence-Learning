{
 "cells": [
  {
   "cell_type": "code",
   "execution_count": 2,
   "id": "f3488d5f",
   "metadata": {},
   "outputs": [],
   "source": [
    "import numpy as np\n",
    "import pandas as pd\n",
    "import matplotlib.pyplot as plt"
   ]
  },
  {
   "cell_type": "markdown",
   "id": "3e165ca8",
   "metadata": {},
   "source": [
    "# Problem 1:\n",
    "\n",
    "(10 points)"
   ]
  },
  {
   "cell_type": "markdown",
   "id": "b90ce71c",
   "metadata": {},
   "source": [
    "**a)** The file `data_problem1.csv` contains a sequence of observations. In this problem you should do the following:\n",
    "\n",
    "1. Load the data and split it into 80 % training and 20 % validation data.\n",
    "2. Pre-process the data as you find appropriate.\n",
    "3. Produce mean-squared-error curves for model orders in the range $p=1,\\dots,10$. Plot both training and validation errors as two separate curves.\n",
    "4. Based on the error curves, pick a final model order $p$ that you think is appropriate. **Motivate your choice!**\n",
    "\n",
    "\n",
    "<div style=\"text-align: right\"> (6p) </div>\n"
   ]
  },
  {
   "cell_type": "code",
   "execution_count": null,
   "id": "2c70172f",
   "metadata": {},
   "outputs": [],
   "source": [
    "data = pd.read_csv('data_problem1.csv', header = 0)\n",
    "y = data['Data'].values"
   ]
  },
  {
   "cell_type": "markdown",
   "id": "f871715e",
   "metadata": {},
   "source": [
    "**Solution:**"
   ]
  },
  {
   "cell_type": "code",
   "execution_count": null,
   "id": "4d70ba04",
   "metadata": {},
   "outputs": [],
   "source": []
  },
  {
   "cell_type": "markdown",
   "id": "972ff242",
   "metadata": {},
   "source": [
    "___"
   ]
  },
  {
   "cell_type": "markdown",
   "id": "095251c5",
   "metadata": {},
   "source": [
    "**b)** Verify that the resulting AR models is stable directly based on the model parameters.\n",
    "<div style=\"text-align: right\"> (2p) </div>"
   ]
  },
  {
   "cell_type": "markdown",
   "id": "d288caca",
   "metadata": {},
   "source": [
    "**Solution:**"
   ]
  },
  {
   "cell_type": "code",
   "execution_count": null,
   "id": "145ead16",
   "metadata": {},
   "outputs": [],
   "source": []
  },
  {
   "cell_type": "markdown",
   "id": "9d1f7d7a",
   "metadata": {},
   "source": [
    "___"
   ]
  },
  {
   "cell_type": "markdown",
   "id": "6917dcc5",
   "metadata": {},
   "source": [
    "**c)** Predict the value of $y_{n+1}$. Where $n$ is the **total number of observations** including both the training and testing data.\n",
    "<div style=\"text-align: right\"> (2p) </div>"
   ]
  },
  {
   "cell_type": "markdown",
   "id": "4c6bd33f",
   "metadata": {},
   "source": [
    "**Solution:**"
   ]
  },
  {
   "cell_type": "code",
   "execution_count": null,
   "id": "13492a31",
   "metadata": {},
   "outputs": [],
   "source": []
  }
 ],
 "metadata": {
  "kernelspec": {
   "display_name": "Python 3 (ipykernel)",
   "language": "python",
   "name": "python3"
  },
  "language_info": {
   "codemirror_mode": {
    "name": "ipython",
    "version": 3
   },
   "file_extension": ".py",
   "mimetype": "text/x-python",
   "name": "python",
   "nbconvert_exporter": "python",
   "pygments_lexer": "ipython3",
   "version": "3.7.11"
  }
 },
 "nbformat": 4,
 "nbformat_minor": 5
}
