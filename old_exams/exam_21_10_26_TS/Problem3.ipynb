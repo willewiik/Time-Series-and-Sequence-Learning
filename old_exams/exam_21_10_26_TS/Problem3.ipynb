{
 "cells": [
  {
   "cell_type": "code",
   "execution_count": null,
   "metadata": {},
   "outputs": [],
   "source": [
    "import numpy as np\n",
    "import pandas as pd\n",
    "import matplotlib.pyplot as plt"
   ]
  },
  {
   "cell_type": "markdown",
   "metadata": {},
   "source": [
    "# Problem 3\n",
    "(12 points)"
   ]
  },
  {
   "cell_type": "markdown",
   "metadata": {},
   "source": [
    "We ask a poplutaion of $\\mathcal{P}$ persons a yes/no question every week for three year and record the number of yes answers. Every persons answer is assumed to be independent of each other. We model the probability of any single person answering yes in week $t$ as $\\alpha_t$, and assume the following dynamics for this process,\n",
    "$$\n",
    "    \\alpha_{t+1} = \\left(1 + \\exp\\left[ - a \\cdot \\log \\left( \\frac{\\alpha_t}{1 - \\alpha_t} \\right) + \\sigma \\cdot \\eta_{t+1} \\right] \\right)^{-1}, \\quad \\eta_{t+1} \\sim \\mathcal{N}(0,1)\n",
    "$$\n",
    "we let $\\alpha_1 \\sim \\mathcal{U}(0,1)$ (_uniform distribution_).\n",
    "\n",
    "**a)** We are interested in estimating the probabilities $\\alpha_t$ given the sum of yes answers $y_{1:t}$, since this is a non-linear non-Gaussian model we will use a *bootstrap particle filter* to solve this problem. To implement such an algorithm we need to perform three operations, propagation, weighting, and resampling. In this first problem you should do the following:\n",
    "1. Find the conditional distribution of $y_t \\mid \\alpha_t$.\n",
    "2. Implement a function that takes $N$ particles $\\alpha_t^i$ and propagates them to $\\alpha_{t+1}^{i}$.\n",
    "3. Implement a function that takes $N$ particles $\\alpha_t^i$ and an observation $y_t$ and calculates the log-weights $\\log \\omega_t^i$.\n",
    "<div style='text-align: right'>(4p)</div>"
   ]
  },
  {
   "cell_type": "markdown",
   "metadata": {},
   "source": [
    "**Solution:**"
   ]
  },
  {
   "cell_type": "code",
   "execution_count": null,
   "metadata": {},
   "outputs": [],
   "source": [
    "# 1 ############\n"
   ]
  },
  {
   "cell_type": "markdown",
   "metadata": {},
   "source": [
    "___"
   ]
  },
  {
   "cell_type": "markdown",
   "metadata": {},
   "source": [
    "**b)** using the functions from the previous part implement a **botstrap particle filter** that runs on the data available in the file `data_problem3.csv`. Use the parameter values $a = 0.9, \\sigma = 0.5$, and $\\mathcal{P} = 130$. \n",
    "\n",
    "Provide a plot of your estimate of the sequences $\\mathbb{E}[\\alpha_t \\mid y_{1:t}]$ and $\\mathbb{P}(\\alpha_t > 0.5 \\mid y_{1:t})$, for $t = 1, 2, \\ldots, 156$. You should use at least $N = 200$ particles in your estimates.\n",
    "\n",
    "_hint: note that $\\mathbb{P}(\\alpha_t > 0.5 \\mid y_{1:t}) = \\mathbb{E}[ I\\{\\alpha_t > 0.5\\} \\mid y_{1:t}]$, where $I\\{ \\cdot \\}$ is an indicator function that is $1$ when the condition is satisfied and $0$ otherwise._\n",
    "(_if you failed to solve part a you can use `propagate_wrong` and `logwgtfun_wrong` from `tssltools.py`_)\n",
    "<div style=\"text-align: right\"> (5p) </div>"
   ]
  },
  {
   "cell_type": "code",
   "execution_count": null,
   "metadata": {},
   "outputs": [],
   "source": [
    "data = pd.read_csv('data_problem3.csv',header=0)\n",
    "y = data['Data'].values"
   ]
  },
  {
   "cell_type": "markdown",
   "metadata": {},
   "source": [
    "**Solution:**"
   ]
  },
  {
   "cell_type": "code",
   "execution_count": null,
   "metadata": {},
   "outputs": [],
   "source": []
  },
  {
   "cell_type": "markdown",
   "metadata": {},
   "source": [
    "___"
   ]
  },
  {
   "cell_type": "markdown",
   "metadata": {},
   "source": [
    "**c)** The parameter $a$ is set quite arbitrary in the model above. In this problem you should perform parameter inference on this parameter. Find the value of $a$ by calculating the log-likelihood for different values of $a$, you know that the value is between $0.5$ and $1$. Find an estimate of $a$ that would be within $0.05$ of the true value.\n",
    "<div style=\"text-align: right\">(3p)</div> "
   ]
  },
  {
   "cell_type": "markdown",
   "metadata": {},
   "source": [
    "**Solution:**"
   ]
  },
  {
   "cell_type": "code",
   "execution_count": null,
   "metadata": {},
   "outputs": [],
   "source": []
  }
 ],
 "metadata": {
  "kernelspec": {
   "display_name": "Python 3 (ipykernel)",
   "language": "python",
   "name": "python3"
  },
  "language_info": {
   "codemirror_mode": {
    "name": "ipython",
    "version": 3
   },
   "file_extension": ".py",
   "mimetype": "text/x-python",
   "name": "python",
   "nbconvert_exporter": "python",
   "pygments_lexer": "ipython3",
   "version": "3.9.12"
  }
 },
 "nbformat": 4,
 "nbformat_minor": 2
}
