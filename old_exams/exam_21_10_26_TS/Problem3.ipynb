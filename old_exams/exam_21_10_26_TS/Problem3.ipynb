{
  "cells": [
    {
      "cell_type": "markdown",
      "metadata": {
        "id": "view-in-github",
        "colab_type": "text"
      },
      "source": [
        "<a href=\"https://colab.research.google.com/github/willewiik/Time-Series-and-Sequence-Learning/blob/main/old_exams/exam_21_10_26_TS/Problem3.ipynb\" target=\"_parent\"><img src=\"https://colab.research.google.com/assets/colab-badge.svg\" alt=\"Open In Colab\"/></a>"
      ]
    },
    {
      "cell_type": "code",
      "execution_count": 8,
      "metadata": {
        "id": "eEJftHfkp3WH"
      },
      "outputs": [],
      "source": [
        "import numpy as np\n",
        "import pandas as pd\n",
        "import matplotlib.pyplot as plt"
      ]
    },
    {
      "cell_type": "code",
      "source": [
        "!git clone https://github.com/willewiik/Time-Series-and-Sequence-Learning.git"
      ],
      "metadata": {
        "id": "Sp4g0CCyqEoX",
        "outputId": "827bb04d-af5b-4d71-a877-0510131d5041",
        "colab": {
          "base_uri": "https://localhost:8080/"
        }
      },
      "execution_count": 13,
      "outputs": [
        {
          "output_type": "stream",
          "name": "stdout",
          "text": [
            "Cloning into 'Time-Series-and-Sequence-Learning'...\n",
            "remote: Enumerating objects: 54, done.\u001b[K\n",
            "remote: Counting objects: 100% (54/54), done.\u001b[K\n",
            "remote: Compressing objects: 100% (53/53), done.\u001b[K\n",
            "remote: Total 54 (delta 16), reused 0 (delta 0), pack-reused 0 (from 0)\u001b[K\n",
            "Receiving objects: 100% (54/54), 884.08 KiB | 6.85 MiB/s, done.\n",
            "Resolving deltas: 100% (16/16), done.\n"
          ]
        }
      ]
    },
    {
      "cell_type": "code",
      "source": [
        "%cd \"Time-Series-and-Sequence-Learning/old_exams/exam_21_10_26_TS\""
      ],
      "metadata": {
        "id": "rb5ClS0rq2-a",
        "outputId": "1cb84dcc-495b-4c93-af8b-6a4cf3c9416a",
        "colab": {
          "base_uri": "https://localhost:8080/"
        }
      },
      "execution_count": 14,
      "outputs": [
        {
          "output_type": "stream",
          "name": "stdout",
          "text": [
            "/content/Time-Series-and-Sequence-Learning/old_exams/exam_21_10_26_TS\n"
          ]
        }
      ]
    },
    {
      "cell_type": "code",
      "source": [
        "from tssltools import acf"
      ],
      "metadata": {
        "id": "SKAJcyodrEJk"
      },
      "execution_count": 9,
      "outputs": []
    },
    {
      "cell_type": "markdown",
      "metadata": {
        "id": "eZHoB_Afp3WI"
      },
      "source": [
        "# Problem 3\n",
        "(12 points)"
      ]
    },
    {
      "cell_type": "markdown",
      "metadata": {
        "id": "m1yEG-K9p3WJ"
      },
      "source": [
        "We ask a poplutaion of $\\mathcal{P}$ persons a yes/no question every week for three year and record the number of yes answers. Every persons answer is assumed to be independent of each other. We model the probability of any single person answering yes in week $t$ as $\\alpha_t$, and assume the following dynamics for this process,\n",
        "$$\n",
        "    \\alpha_{t+1} = \\left(1 + \\exp\\left[ - a \\cdot \\log \\left( \\frac{\\alpha_t}{1 - \\alpha_t} \\right) + \\sigma \\cdot \\eta_{t+1} \\right] \\right)^{-1}, \\quad \\eta_{t+1} \\sim \\mathcal{N}(0,1)\n",
        "$$\n",
        "we let $\\alpha_1 \\sim \\mathcal{U}(0,1)$ (_uniform distribution_).\n",
        "\n",
        "**a)** We are interested in estimating the probabilities $\\alpha_t$ given the sum of yes answers $y_{1:t}$, since this is a non-linear non-Gaussian model we will use a *bootstrap particle filter* to solve this problem. To implement such an algorithm we need to perform three operations, propagation, weighting, and resampling. In this first problem you should do the following:\n",
        "1. Find the conditional distribution of $y_t \\mid \\alpha_t$.\n",
        "2. Implement a function that takes $N$ particles $\\alpha_t^i$ and propagates them to $\\alpha_{t+1}^{i}$.\n",
        "3. Implement a function that takes $N$ particles $\\alpha_t^i$ and an observation $y_t$ and calculates the log-weights $\\log \\omega_t^i$.\n",
        "<div style='text-align: right'>(4p)</div>"
      ]
    },
    {
      "cell_type": "markdown",
      "source": [
        "1. The conditional distribution of $y_t|\\alpha_t \\sim BIN(P,\\alpha_t)$\n",
        "\n",
        "$\\alpha_t^y(1-\\alpha_t)^{P-y}$"
      ],
      "metadata": {
        "id": "dj4vrj1OaqFz"
      }
    },
    {
      "cell_type": "markdown",
      "metadata": {
        "id": "9Hxocdz5p3WJ"
      },
      "source": [
        "**Solution:**"
      ]
    },
    {
      "cell_type": "code",
      "execution_count": 46,
      "metadata": {
        "id": "JZ2Gny_Gp3WJ"
      },
      "outputs": [],
      "source": [
        "# 1 ############\n",
        "\n",
        "#help(np.random.binomial)\n",
        "# 2\n",
        "#from tssstool import\n",
        "def prop(particles,N, a, sigma):\n",
        "   eta_t_plus_1 = np.random.normal(0, 1, N)\n",
        "   alpha_t_plus_one = (1 + np.exp(-a * np.log(particles / (1- particles) + sigma * eta_t_plus_1)))**-1\n",
        "   return alpha_t_plus_one\n",
        "\n",
        "\n",
        "\n",
        "\n",
        "# 3\n",
        "# y * log(alphat) + (P-y)*log(1-alphat)\n",
        "def log_weight(y, alphat, P):\n",
        "  logwgt = y * np.log(alphat) + (P-y)*np.log(1-alphat)\n",
        "  return logwgt"
      ]
    },
    {
      "cell_type": "markdown",
      "metadata": {
        "id": "PGqtPNwEp3WK"
      },
      "source": [
        "___"
      ]
    },
    {
      "cell_type": "markdown",
      "metadata": {
        "id": "Edx5seWGp3WK"
      },
      "source": [
        "**b)** using the functions from the previous part implement a **botstrap particle filter** that runs on the data available in the file `data_problem3.csv`. Use the parameter values $a = 0.9, \\sigma = 0.5$, and $\\mathcal{P} = 130$.\n",
        "\n",
        "Provide a plot of your estimate of the sequences $\\mathbb{E}[\\alpha_t \\mid y_{1:t}]$ and $\\mathbb{P}(\\alpha_t > 0.5 \\mid y_{1:t})$, for $t = 1, 2, \\ldots, 156$. You should use at least $N = 200$ particles in your estimates.\n",
        "\n",
        "_hint: note that $\\mathbb{P}(\\alpha_t > 0.5 \\mid y_{1:t}) = \\mathbb{E}[ I\\{\\alpha_t > 0.5\\} \\mid y_{1:t}]$, where $I\\{ \\cdot \\}$ is an indicator function that is $1$ when the condition is satisfied and $0$ otherwise._\n",
        "(_if you failed to solve part a you can use `propagate_wrong` and `logwgtfun_wrong` from `tssltools.py`_)\n",
        "<div style=\"text-align: right\"> (5p) </div>"
      ]
    },
    {
      "cell_type": "code",
      "execution_count": 47,
      "metadata": {
        "id": "rhuNNp0-p3WK",
        "outputId": "867a9964-c923-4286-f8bf-ab3913e096e2",
        "colab": {
          "base_uri": "https://localhost:8080/",
          "height": 447
        }
      },
      "outputs": [
        {
          "output_type": "execute_result",
          "data": {
            "text/plain": [
              "[<matplotlib.lines.Line2D at 0x7cbf719f7e50>]"
            ]
          },
          "metadata": {},
          "execution_count": 47
        },
        {
          "output_type": "display_data",
          "data": {
            "text/plain": [
              "<Figure size 640x480 with 1 Axes>"
            ],
            "image/png": "[encoded data removed]"
          },
          "metadata": {}
        }
      ],
      "source": [
        "data = pd.read_csv('data_problem3.csv',header=0)\n",
        "y = data['Data'].values\n",
        "plt.plot(y)"
      ]
    },
    {
      "cell_type": "markdown",
      "metadata": {
        "id": "ty2W5fzSp3WK"
      },
      "source": [
        "**Solution:**"
      ]
    },
    {
      "cell_type": "code",
      "execution_count": 59,
      "metadata": {
        "id": "a31kiBkzp3WL"
      },
      "outputs": [],
      "source": [
        "from tssltools import smc_res\n",
        "\n",
        "def exp_norm(logwgt):\n",
        "  logwgt_max = np.max(logwgt)\n",
        "  logwgt_tilde = logwgt - logwgt_max\n",
        "  wgt = np.exp(logwgt_tilde)\n",
        "  wgt = wgt / np.sum(wgt)\n",
        "  logZ = np.log(np.sum(wgt)) + logwgt_max\n",
        "  return wgt, logZ\n",
        "\n",
        "\n",
        "def ESS(wgt):\n",
        "  ess = np.sum(wgt)**2 / np.sum(wgt**2)\n",
        "  return ess\n",
        "\n",
        "def bpf(y, numParticles, alpha, sigma, P):\n",
        "   n = len(y)\n",
        "   N = numParticles\n",
        "   particles = np.zeros((N,n), dtype = float)\n",
        "   logW = np.zeros((N,n))\n",
        "   W = np.zeros((N,n))\n",
        "   alpha_filt = np.zeros((1,n))\n",
        "   N_eff = np.zeros(n)\n",
        "   logZ = 0\n",
        "   for t in range(n):\n",
        "    if t == 0:\n",
        "      particles[:,0] = np.random.rand(N)\n",
        "    else:\n",
        "      ind = np.random.choice(N,N, replace = True, p = W[:,t-1])\n",
        "      resampled_particles = particles[ind,t-1]\n",
        "      particles[:,t] = prop(resampled_particles, N, alpha, sigma)\n",
        "\n",
        "    logW[:,t] = log_weight(y[t], particles[:,t], P)\n",
        "    W[:,t], logZ_now = exp_norm(logW[:,t])\n",
        "    logZ += (logZ_now - np.log(N))\n",
        "    N_eff[t] = ESS(W[:,t])\n",
        "    alpha_filt[0,t] = np.sum(W[:,t] * particles[:,t])\n",
        "    return smc_res(alpha_filt,particles,W, N_eff, logZ)"
      ]
    },
    {
      "cell_type": "code",
      "source": [
        "exp_norm(((3,4)))"
      ],
      "metadata": {
        "id": "hp57r_JGv3ue",
        "outputId": "47f80f12-f17e-428f-8bdc-2a37038df078",
        "colab": {
          "base_uri": "https://localhost:8080/"
        }
      },
      "execution_count": 65,
      "outputs": [
        {
          "output_type": "execute_result",
          "data": {
            "text/plain": [
              "(array([0.26894142, 0.73105858]), 4.0)"
            ]
          },
          "metadata": {},
          "execution_count": 65
        }
      ]
    },
    {
      "cell_type": "code",
      "source": [
        "bpf_result = bpf(y = y, numParticles = 200, alpha = 0.9, sigma = 0.5, P = 130)\n",
        "print(bpf_result.alpha_filt)\n",
        "n = len(y)\n",
        "greater_than_onehalf = [sum(bpf_result.particles[:,x]>0.5)/200 for x in range(n)]\n",
        "u = data.iloc[:,0].values\n",
        "plt.plot(u,bpf_result.alpha_filt,label = 'alpha_t')\n",
        "plt.title('Expected alpha_t value given data')\n",
        "plt.legend()\n",
        "plt.show()\n",
        "\n",
        "plt.plot(u,greater_than_onehalf,label = 'probability')\n",
        "plt.title('probability of alpha_t greater then 0.5 given data')\n",
        "plt.legend()\n",
        "plt.show()"
      ],
      "metadata": {
        "id": "638gRllqm57T",
        "outputId": "45d782a6-02ca-485a-b653-afe35451b797",
        "colab": {
          "base_uri": "https://localhost:8080/",
          "height": 1000
        }
      },
      "execution_count": 63,
      "outputs": [
        {
          "output_type": "stream",
          "name": "stdout",
          "text": [
            "[[0.75442351 0.         0.         0.         0.         0.\n",
            "  0.         0.         0.         0.         0.         0.\n",
            "  0.         0.         0.         0.         0.         0.\n",
            "  0.         0.         0.         0.         0.         0.\n",
            "  0.         0.         0.         0.         0.         0.\n",
            "  0.         0.         0.         0.         0.         0.\n",
            "  0.         0.         0.         0.         0.         0.\n",
            "  0.         0.         0.         0.         0.         0.\n",
            "  0.         0.         0.         0.         0.         0.\n",
            "  0.         0.         0.         0.         0.         0.\n",
            "  0.         0.         0.         0.         0.         0.\n",
            "  0.         0.         0.         0.         0.         0.\n",
            "  0.         0.         0.         0.         0.         0.\n",
            "  0.         0.         0.         0.         0.         0.\n",
            "  0.         0.         0.         0.         0.         0.\n",
            "  0.         0.         0.         0.         0.         0.\n",
            "  0.         0.         0.         0.         0.         0.\n",
            "  0.         0.         0.         0.         0.         0.\n",
            "  0.         0.         0.         0.         0.         0.\n",
            "  0.         0.         0.         0.         0.         0.\n",
            "  0.         0.         0.         0.         0.         0.\n",
            "  0.         0.         0.         0.         0.         0.\n",
            "  0.         0.         0.         0.         0.         0.\n",
            "  0.         0.         0.         0.         0.         0.\n",
            "  0.         0.         0.         0.         0.         0.\n",
            "  0.         0.         0.         0.         0.         0.        ]]\n"
          ]
        },
        {
          "output_type": "error",
          "ename": "ValueError",
          "evalue": "x and y must have same first dimension, but have shapes (156,) and (1, 156)",
          "traceback": [
            "\u001b[0;31m---------------------------------------------------------------------------\u001b[0m",
            "\u001b[0;31mValueError\u001b[0m                                Traceback (most recent call last)",
            "\u001b[0;32m<ipython-input-63-2d8dc01a8f44>\u001b[0m in \u001b[0;36m<cell line: 6>\u001b[0;34m()\u001b[0m\n\u001b[1;32m      4\u001b[0m \u001b[0mgreater_than_onehalf\u001b[0m \u001b[0;34m=\u001b[0m \u001b[0;34m[\u001b[0m\u001b[0msum\u001b[0m\u001b[0;34m(\u001b[0m\u001b[0mbpf_result\u001b[0m\u001b[0;34m.\u001b[0m\u001b[0mparticles\u001b[0m\u001b[0;34m[\u001b[0m\u001b[0;34m:\u001b[0m\u001b[0;34m,\u001b[0m\u001b[0mx\u001b[0m\u001b[0;34m]\u001b[0m\u001b[0;34m>\u001b[0m\u001b[0;36m0.5\u001b[0m\u001b[0;34m)\u001b[0m\u001b[0;34m/\u001b[0m\u001b[0;36m200\u001b[0m \u001b[0;32mfor\u001b[0m \u001b[0mx\u001b[0m \u001b[0;32min\u001b[0m \u001b[0mrange\u001b[0m\u001b[0;34m(\u001b[0m\u001b[0mn\u001b[0m\u001b[0;34m)\u001b[0m\u001b[0;34m]\u001b[0m\u001b[0;34m\u001b[0m\u001b[0;34m\u001b[0m\u001b[0m\n\u001b[1;32m      5\u001b[0m \u001b[0mu\u001b[0m \u001b[0;34m=\u001b[0m \u001b[0mdata\u001b[0m\u001b[0;34m.\u001b[0m\u001b[0miloc\u001b[0m\u001b[0;34m[\u001b[0m\u001b[0;34m:\u001b[0m\u001b[0;34m,\u001b[0m\u001b[0;36m0\u001b[0m\u001b[0;34m]\u001b[0m\u001b[0;34m.\u001b[0m\u001b[0mvalues\u001b[0m\u001b[0;34m\u001b[0m\u001b[0;34m\u001b[0m\u001b[0m\n\u001b[0;32m----> 6\u001b[0;31m \u001b[0mplt\u001b[0m\u001b[0;34m.\u001b[0m\u001b[0mplot\u001b[0m\u001b[0;34m(\u001b[0m\u001b[0mu\u001b[0m\u001b[0;34m,\u001b[0m\u001b[0mbpf_result\u001b[0m\u001b[0;34m.\u001b[0m\u001b[0malpha_filt\u001b[0m\u001b[0;34m,\u001b[0m\u001b[0mlabel\u001b[0m \u001b[0;34m=\u001b[0m \u001b[0;34m'alpha_t'\u001b[0m\u001b[0;34m)\u001b[0m\u001b[0;34m\u001b[0m\u001b[0;34m\u001b[0m\u001b[0m\n\u001b[0m\u001b[1;32m      7\u001b[0m \u001b[0mplt\u001b[0m\u001b[0;34m.\u001b[0m\u001b[0mtitle\u001b[0m\u001b[0;34m(\u001b[0m\u001b[0;34m'Expected alpha_t value given data'\u001b[0m\u001b[0;34m)\u001b[0m\u001b[0;34m\u001b[0m\u001b[0;34m\u001b[0m\u001b[0m\n\u001b[1;32m      8\u001b[0m \u001b[0mplt\u001b[0m\u001b[0;34m.\u001b[0m\u001b[0mlegend\u001b[0m\u001b[0;34m(\u001b[0m\u001b[0;34m)\u001b[0m\u001b[0;34m\u001b[0m\u001b[0;34m\u001b[0m\u001b[0m\n",
            "\u001b[0;32m/usr/local/lib/python3.10/dist-packages/matplotlib/pyplot.py\u001b[0m in \u001b[0;36mplot\u001b[0;34m(scalex, scaley, data, *args, **kwargs)\u001b[0m\n\u001b[1;32m   2810\u001b[0m \u001b[0;34m@\u001b[0m\u001b[0m_copy_docstring_and_deprecators\u001b[0m\u001b[0;34m(\u001b[0m\u001b[0mAxes\u001b[0m\u001b[0;34m.\u001b[0m\u001b[0mplot\u001b[0m\u001b[0;34m)\u001b[0m\u001b[0;34m\u001b[0m\u001b[0;34m\u001b[0m\u001b[0m\n\u001b[1;32m   2811\u001b[0m \u001b[0;32mdef\u001b[0m \u001b[0mplot\u001b[0m\u001b[0;34m(\u001b[0m\u001b[0;34m*\u001b[0m\u001b[0margs\u001b[0m\u001b[0;34m,\u001b[0m \u001b[0mscalex\u001b[0m\u001b[0;34m=\u001b[0m\u001b[0;32mTrue\u001b[0m\u001b[0;34m,\u001b[0m \u001b[0mscaley\u001b[0m\u001b[0;34m=\u001b[0m\u001b[0;32mTrue\u001b[0m\u001b[0;34m,\u001b[0m \u001b[0mdata\u001b[0m\u001b[0;34m=\u001b[0m\u001b[0;32mNone\u001b[0m\u001b[0;34m,\u001b[0m \u001b[0;34m**\u001b[0m\u001b[0mkwargs\u001b[0m\u001b[0;34m)\u001b[0m\u001b[0;34m:\u001b[0m\u001b[0;34m\u001b[0m\u001b[0;34m\u001b[0m\u001b[0m\n\u001b[0;32m-> 2812\u001b[0;31m     return gca().plot(\n\u001b[0m\u001b[1;32m   2813\u001b[0m         \u001b[0;34m*\u001b[0m\u001b[0margs\u001b[0m\u001b[0;34m,\u001b[0m \u001b[0mscalex\u001b[0m\u001b[0;34m=\u001b[0m\u001b[0mscalex\u001b[0m\u001b[0;34m,\u001b[0m \u001b[0mscaley\u001b[0m\u001b[0;34m=\u001b[0m\u001b[0mscaley\u001b[0m\u001b[0;34m,\u001b[0m\u001b[0;34m\u001b[0m\u001b[0;34m\u001b[0m\u001b[0m\n\u001b[1;32m   2814\u001b[0m         **({\"data\": data} if data is not None else {}), **kwargs)\n",
            "\u001b[0;32m/usr/local/lib/python3.10/dist-packages/matplotlib/axes/_axes.py\u001b[0m in \u001b[0;36mplot\u001b[0;34m(self, scalex, scaley, data, *args, **kwargs)\u001b[0m\n\u001b[1;32m   1686\u001b[0m         \"\"\"\n\u001b[1;32m   1687\u001b[0m         \u001b[0mkwargs\u001b[0m \u001b[0;34m=\u001b[0m \u001b[0mcbook\u001b[0m\u001b[0;34m.\u001b[0m\u001b[0mnormalize_kwargs\u001b[0m\u001b[0;34m(\u001b[0m\u001b[0mkwargs\u001b[0m\u001b[0;34m,\u001b[0m \u001b[0mmlines\u001b[0m\u001b[0;34m.\u001b[0m\u001b[0mLine2D\u001b[0m\u001b[0;34m)\u001b[0m\u001b[0;34m\u001b[0m\u001b[0;34m\u001b[0m\u001b[0m\n\u001b[0;32m-> 1688\u001b[0;31m         \u001b[0mlines\u001b[0m \u001b[0;34m=\u001b[0m \u001b[0;34m[\u001b[0m\u001b[0;34m*\u001b[0m\u001b[0mself\u001b[0m\u001b[0;34m.\u001b[0m\u001b[0m_get_lines\u001b[0m\u001b[0;34m(\u001b[0m\u001b[0;34m*\u001b[0m\u001b[0margs\u001b[0m\u001b[0;34m,\u001b[0m \u001b[0mdata\u001b[0m\u001b[0;34m=\u001b[0m\u001b[0mdata\u001b[0m\u001b[0;34m,\u001b[0m \u001b[0;34m**\u001b[0m\u001b[0mkwargs\u001b[0m\u001b[0;34m)\u001b[0m\u001b[0;34m]\u001b[0m\u001b[0;34m\u001b[0m\u001b[0;34m\u001b[0m\u001b[0m\n\u001b[0m\u001b[1;32m   1689\u001b[0m         \u001b[0;32mfor\u001b[0m \u001b[0mline\u001b[0m \u001b[0;32min\u001b[0m \u001b[0mlines\u001b[0m\u001b[0;34m:\u001b[0m\u001b[0;34m\u001b[0m\u001b[0;34m\u001b[0m\u001b[0m\n\u001b[1;32m   1690\u001b[0m             \u001b[0mself\u001b[0m\u001b[0;34m.\u001b[0m\u001b[0madd_line\u001b[0m\u001b[0;34m(\u001b[0m\u001b[0mline\u001b[0m\u001b[0;34m)\u001b[0m\u001b[0;34m\u001b[0m\u001b[0;34m\u001b[0m\u001b[0m\n",
            "\u001b[0;32m/usr/local/lib/python3.10/dist-packages/matplotlib/axes/_base.py\u001b[0m in \u001b[0;36m__call__\u001b[0;34m(self, data, *args, **kwargs)\u001b[0m\n\u001b[1;32m    309\u001b[0m                 \u001b[0mthis\u001b[0m \u001b[0;34m+=\u001b[0m \u001b[0margs\u001b[0m\u001b[0;34m[\u001b[0m\u001b[0;36m0\u001b[0m\u001b[0;34m]\u001b[0m\u001b[0;34m,\u001b[0m\u001b[0;34m\u001b[0m\u001b[0;34m\u001b[0m\u001b[0m\n\u001b[1;32m    310\u001b[0m                 \u001b[0margs\u001b[0m \u001b[0;34m=\u001b[0m \u001b[0margs\u001b[0m\u001b[0;34m[\u001b[0m\u001b[0;36m1\u001b[0m\u001b[0;34m:\u001b[0m\u001b[0;34m]\u001b[0m\u001b[0;34m\u001b[0m\u001b[0;34m\u001b[0m\u001b[0m\n\u001b[0;32m--> 311\u001b[0;31m             yield from self._plot_args(\n\u001b[0m\u001b[1;32m    312\u001b[0m                 this, kwargs, ambiguous_fmt_datakey=ambiguous_fmt_datakey)\n\u001b[1;32m    313\u001b[0m \u001b[0;34m\u001b[0m\u001b[0m\n",
            "\u001b[0;32m/usr/local/lib/python3.10/dist-packages/matplotlib/axes/_base.py\u001b[0m in \u001b[0;36m_plot_args\u001b[0;34m(self, tup, kwargs, return_kwargs, ambiguous_fmt_datakey)\u001b[0m\n\u001b[1;32m    502\u001b[0m \u001b[0;34m\u001b[0m\u001b[0m\n\u001b[1;32m    503\u001b[0m         \u001b[0;32mif\u001b[0m \u001b[0mx\u001b[0m\u001b[0;34m.\u001b[0m\u001b[0mshape\u001b[0m\u001b[0;34m[\u001b[0m\u001b[0;36m0\u001b[0m\u001b[0;34m]\u001b[0m \u001b[0;34m!=\u001b[0m \u001b[0my\u001b[0m\u001b[0;34m.\u001b[0m\u001b[0mshape\u001b[0m\u001b[0;34m[\u001b[0m\u001b[0;36m0\u001b[0m\u001b[0;34m]\u001b[0m\u001b[0;34m:\u001b[0m\u001b[0;34m\u001b[0m\u001b[0;34m\u001b[0m\u001b[0m\n\u001b[0;32m--> 504\u001b[0;31m             raise ValueError(f\"x and y must have same first dimension, but \"\n\u001b[0m\u001b[1;32m    505\u001b[0m                              f\"have shapes {x.shape} and {y.shape}\")\n\u001b[1;32m    506\u001b[0m         \u001b[0;32mif\u001b[0m \u001b[0mx\u001b[0m\u001b[0;34m.\u001b[0m\u001b[0mndim\u001b[0m \u001b[0;34m>\u001b[0m \u001b[0;36m2\u001b[0m \u001b[0;32mor\u001b[0m \u001b[0my\u001b[0m\u001b[0;34m.\u001b[0m\u001b[0mndim\u001b[0m \u001b[0;34m>\u001b[0m \u001b[0;36m2\u001b[0m\u001b[0;34m:\u001b[0m\u001b[0;34m\u001b[0m\u001b[0;34m\u001b[0m\u001b[0m\n",
            "\u001b[0;31mValueError\u001b[0m: x and y must have same first dimension, but have shapes (156,) and (1, 156)"
          ]
        },
        {
          "output_type": "display_data",
          "data": {
            "text/plain": [
              "<Figure size 640x480 with 1 Axes>"
            ],
            "image/png": "[encoded data removed]"
          },
          "metadata": {}
        }
      ]
    },
    {
      "cell_type": "markdown",
      "metadata": {
        "id": "PxUV3rtzp3WL"
      },
      "source": [
        "___"
      ]
    },
    {
      "cell_type": "markdown",
      "metadata": {
        "id": "O-0WTFEBp3WL"
      },
      "source": [
        "**c)** The parameter $a$ is set quite arbitrary in the model above. In this problem you should perform parameter inference on this parameter. Find the value of $a$ by calculating the log-likelihood for different values of $a$, you know that the value is between $0.5$ and $1$. Find an estimate of $a$ that would be within $0.05$ of the true value.\n",
        "<div style=\"text-align: right\">(3p)</div>"
      ]
    },
    {
      "cell_type": "markdown",
      "metadata": {
        "id": "HYcYlZRip3WL"
      },
      "source": [
        "**Solution:**"
      ]
    },
    {
      "cell_type": "code",
      "execution_count": null,
      "metadata": {
        "id": "vhSyzK1wp3WL"
      },
      "outputs": [],
      "source": []
    }
  ],
  "metadata": {
    "kernelspec": {
      "display_name": "Python 3 (ipykernel)",
      "language": "python",
      "name": "python3"
    },
    "language_info": {
      "codemirror_mode": {
        "name": "ipython",
        "version": 3
      },
      "file_extension": ".py",
      "mimetype": "text/x-python",
      "name": "python",
      "nbconvert_exporter": "python",
      "pygments_lexer": "ipython3",
      "version": "3.9.12"
    },
    "colab": {
      "provenance": [],
      "include_colab_link": true
    }
  },
  "nbformat": 4,
  "nbformat_minor": 0
}