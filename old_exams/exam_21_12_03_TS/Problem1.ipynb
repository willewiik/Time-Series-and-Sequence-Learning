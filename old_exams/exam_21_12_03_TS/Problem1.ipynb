{
 "cells": [
  {
   "cell_type": "code",
   "execution_count": null,
   "metadata": {},
   "outputs": [],
   "source": [
    "import numpy as np\n",
    "import matplotlib.pyplot as plt"
   ]
  },
  {
   "cell_type": "markdown",
   "metadata": {},
   "source": [
    "# Problem 1:\n",
    "\n",
    "(9 points)\n",
    "\n",
    "We are working with an AR(1) model defined by the equation,\n",
    "$$\n",
    "    y_{t+1} = a \\cdot y_{t} + \\varepsilon_{t+1}, \\quad \\varepsilon_{t+1} \\sim \\mathcal{N}(0, \\sigma^{2}),\n",
    "$$\n",
    "with initial distribution $y_{1} \\sim \\mathcal{N}(0, \\sigma^2_0)$. Note that $\\sigma^2_0$ and $\\sigma^2$ are _different_ values.\n",
    "\n",
    "**a)** Let $|a|<1$, __derive__ the __stationary__ distribution of this stochastic process.\n",
    "\n",
    "_Hint: the distribution of $y_t$ will be Gaussian._\n",
    "\n",
    "<div style=\"text-align: right\"> (2p) </div>"
   ]
  },
  {
   "cell_type": "markdown",
   "metadata": {},
   "source": [
    "**Solution:**"
   ]
  },
  {
   "cell_type": "markdown",
   "metadata": {},
   "source": []
  },
  {
   "cell_type": "markdown",
   "metadata": {},
   "source": [
    "----"
   ]
  },
  {
   "cell_type": "markdown",
   "metadata": {},
   "source": [
    "**b)** Simulate 2000 time-steps of two different AR(1) processes, one using $a = 0.9$ and the other one using $a = -0.9$. For both chains set $\\sigma^2 = 0.5$ and $\\sigma^2_0$ to the variance of the stationary distribution you found in **a)**.\n",
    "\n",
    "Plot both of these chains, does it look like the samples come from the stationary distirbution?\n",
    "Plot the empirical autocorrelation function of the two time-series, describe the differences that you see.\n",
    "\n",
    "_hint: you can use `acfplot` from `tssltools.py`_\n",
    "\n",
    "<div style=\"text-align: right\"> (4p) </div>\n",
    "\n",
    "**Solution:**"
   ]
  },
  {
   "cell_type": "code",
   "execution_count": null,
   "metadata": {},
   "outputs": [],
   "source": []
  },
  {
   "cell_type": "markdown",
   "metadata": {},
   "source": [
    "---"
   ]
  },
  {
   "cell_type": "markdown",
   "metadata": {},
   "source": [
    "**c)** Once again we are going to study the two chains with $a=0.9$ and $a=-0.9$. This time start the chains with $y_1 = 10$ and study the behaviour of the chains until they reach stationarity. Is there any difference in the speed and behaviour of the transition of the two stochastic process.\n",
    "<div style=\"text-align: right\"> (3p) </div>\n",
    "\n",
    "**Solution:**"
   ]
  },
  {
   "cell_type": "code",
   "execution_count": null,
   "metadata": {},
   "outputs": [],
   "source": []
  }
 ],
 "metadata": {
  "language_info": {
   "name": "python"
  },
  "orig_nbformat": 4
 },
 "nbformat": 4,
 "nbformat_minor": 2
}
