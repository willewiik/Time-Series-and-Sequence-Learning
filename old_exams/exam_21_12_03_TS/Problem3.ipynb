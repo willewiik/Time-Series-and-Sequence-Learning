{
 "cells": [
  {
   "cell_type": "code",
   "execution_count": null,
   "metadata": {},
   "outputs": [],
   "source": [
    "import numpy as np\n",
    "import pandas as pd\n",
    "import matplotlib.pyplot as plt"
   ]
  },
  {
   "cell_type": "markdown",
   "metadata": {},
   "source": [
    "# Problem 3\n",
    "\n",
    "(10p)\n",
    "\n",
    "**a)** Consider the following model\n",
    "$$\n",
    "    \\begin{cases} \\alpha_{t+1} = \\alpha_t + a \\cdot (b - \\alpha_t) + \\eta_t,& \\eta_t \\sim \\mathcal{N}(0,\\sigma^2_{\\eta}), \\\\\n",
    "    y_t = \\frac{\\alpha_t^2}{20} + \\varepsilon_t, & \\varepsilon_t \\sim \\mathcal{N}(0, \\sigma^2_{\\varepsilon}), \\end{cases}\n",
    "$$\n",
    "with $\\alpha_1 = b$.\n",
    "\n",
    "Since this is a non-Linear model a particle filter can be used to estimate the hidden states $\\alpha_t$ conditioned on the observations $y_t$. For these algorithms we need to define the distributions of **propoagation** ($p(\\alpha_{t+1} | \\alpha_t$)) and **observation** ($p(y_t | \\alpha_t$).\n",
    "\n",
    "Write out these **two** distrubtions and implement the two functions:\n",
    "- `propagate` that simulates $N$ particles of $\\alpha_{t+1}$ conditioned on a set of $N$ particles approximating $\\alpha_t$.\n",
    "- `logwgtfun` that calculates the log of the observation density given $N$ particles.\n",
    "\n",
    "<div style=\"text-align: right\"> (4p) </div>\n",
    "\n",
    "**Solution:**"
   ]
  },
  {
   "cell_type": "code",
   "execution_count": null,
   "metadata": {},
   "outputs": [],
   "source": []
  },
  {
   "cell_type": "markdown",
   "metadata": {},
   "source": [
    "---"
   ]
  },
  {
   "cell_type": "markdown",
   "metadata": {},
   "source": [
    "**b)** Using the values $a = $ and $b = $ implement and run the bootstrap particle filter on the data provided in `data_problem3.csv`.\n",
    "\n",
    "Provide a plot of $\\mathbb{E}[\\alpha_t \\mid y_t]$ and a plot of $\\mathbb{P}(\\alpha_t > b | y_t)$ for $t = 1, 2, 3, \\ldots$. Use at least $N = 200$ particles in your estimates.\n",
    "\n",
    "_hint: if you did not solve **a)** you can use `propagate_wrong` and `logwgtfun_wrong` from `tssltools.py`, note that these are not the correct functions and you should use your functions from **a)** if you have any._\n",
    "\n",
    "<div style=\"text-align: right\"> (6p) </div>\n",
    "\n",
    "**Solution:**"
   ]
  },
  {
   "cell_type": "code",
   "execution_count": null,
   "metadata": {},
   "outputs": [],
   "source": []
  }
 ],
 "metadata": {
  "kernelspec": {
   "display_name": "Python 3 (ipykernel)",
   "language": "python",
   "name": "python3"
  },
  "language_info": {
   "codemirror_mode": {
    "name": "ipython",
    "version": 3
   },
   "file_extension": ".py",
   "mimetype": "text/x-python",
   "name": "python",
   "nbconvert_exporter": "python",
   "pygments_lexer": "ipython3",
   "version": "3.7.11"
  }
 },
 "nbformat": 4,
 "nbformat_minor": 2
}
